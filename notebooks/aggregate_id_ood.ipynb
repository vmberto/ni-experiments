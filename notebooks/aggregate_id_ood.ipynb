{
 "cells": [
  {
   "cell_type": "code",
   "execution_count": 1,
   "metadata": {
    "id": "cMyE8CPF5ghU",
    "cellView": "form",
    "ExecuteTime": {
     "end_time": "2024-06-28T13:28:03.445510Z",
     "start_time": "2024-06-28T13:28:03.441858Z"
    }
   },
   "outputs": [],
   "source": [
    "import seaborn as sns\n",
    "import matplotlib.pyplot as plt\n",
    "import pandas as pd\n",
    "from scipy import stats\n",
    "import numpy as np\n",
    "\n",
    "sns.set_style(\"whitegrid\")\n",
    "sns.set(font='serif')\n",
    "sns.set_style(\"white\", {\n",
    "    \"font.family\": \"serif\",\n",
    "    \"font.serif\": [\"Times\", \"Palatino\", \"serif\"],\n",
    "})"
   ]
  },
  {
   "cell_type": "code",
   "source": [
    "def plot_results(df1, df2):\n",
    "    unique_values1 = df1['model'].unique()\n",
    "    unique_values2 = df2['model'].unique()\n",
    "\n",
    "    resnet_results = df1[df1['model'] == unique_values1[0]]\n",
    "    xception_results = df1[df1['model'] == unique_values1[1]]\n",
    "    resnet_results2 = df2[df2['model'] == unique_values2[0]]\n",
    "    xception_results2 = df2[df2['model'] == unique_values2[1]]\n",
    "\n",
    "    fig, axes = plt.subplots(2, 2, figsize=(20, 10))  # Create a figure with four subplots\n",
    "\n",
    "    x_min = .55\n",
    "    x_max = .9\n",
    "\n",
    "    for i, plot in enumerate([\n",
    "        {\"df\": resnet_results, \"model\": \"ResNet50\", \"ylabel\": \"In-Distribution\"},\n",
    "        {\"df\": xception_results, \"model\": \"Xception\", \"ylabel\": \"In-Distribution\"},\n",
    "        {\"df\": resnet_results2, \"model\": \"\", \"ylabel\": \"Out-of-Distribution\"},\n",
    "        {\"df\": xception_results2, \"model\": \"\", \"ylabel\": \"Out-of-Distribution\"}\n",
    "    ]):\n",
    "        params = {\n",
    "            'legend.markerscale': 3,  # Font size of legend\n",
    "        }\n",
    "        plt.rcParams.update(params)\n",
    "\n",
    "        ax = sns.pointplot(\n",
    "            data=plot['df'],\n",
    "            x='f1-score(weighted avg)',\n",
    "            y='evaluation_set',\n",
    "            hue='strategy',\n",
    "            linestyles='none',\n",
    "            errorbar=(\"ci\", 95),\n",
    "            dodge=.7,\n",
    "            err_kws={'linewidth': 4},\n",
    "            ax=axes[i//2, i%2]\n",
    "        )\n",
    "\n",
    "\n",
    "        ax.set_xlim(x_min, x_max)\n",
    "\n",
    "        if i == 0 or i == 1:\n",
    "            ax.set_xlabel(\"\")\n",
    "        else:\n",
    "            ax.set_xlabel(\"F1-Score\", fontsize=42)\n",
    "\n",
    "\n",
    "        if i % 2 == 0:\n",
    "            ax.set_ylabel(plot['ylabel'], fontsize=32)\n",
    "            ax.set_yticklabels([])\n",
    "        else:\n",
    "            ax.set_yticklabels([])\n",
    "            ax.set_ylabel(\"\")\n",
    "\n",
    "        ax.tick_params(labelsize=32)\n",
    "        ax.set_title(plot['model'], fontsize=42 if plot['model'] else 0)\n",
    "\n",
    "        ax.legend_.remove()\n",
    "\n",
    "    handles, labels = ax.get_legend_handles_labels()\n",
    "    fig.legend(handles, labels, title=\"Strategy\", loc='lower center', bbox_to_anchor=(0.5, -0.32), fontsize=42, title_fontsize=42, ncol=3)\n",
    "\n",
    "    plt.tight_layout()\n",
    "    plt.savefig('../output/aggregate_id_ood_plot.pdf', bbox_inches='tight')\n",
    "    plt.show()"
   ],
   "metadata": {
    "id": "Q2sMljzTld8S",
    "ExecuteTime": {
     "end_time": "2024-06-28T13:28:03.454923Z",
     "start_time": "2024-06-28T13:28:03.446926Z"
    }
   },
   "execution_count": 2,
   "outputs": []
  },
  {
   "cell_type": "code",
   "execution_count": 3,
   "metadata": {
    "id": "cBjppRsc7na8",
    "ExecuteTime": {
     "end_time": "2024-06-28T13:28:13.137833Z",
     "start_time": "2024-06-28T13:28:13.085674Z"
    }
   },
   "outputs": [],
   "source": [
    "results = pd.read_csv(f'../output/output.csv')\n",
    "results['evaluation_set'] = results['evaluation_set'].str.replace(' 3', '')\n",
    "\n",
    "\n",
    "results_ood = results[results['evaluation_set'] != 'In-Distribution']\n",
    "results_in = results[results['evaluation_set'] == 'In-Distribution']"
   ]
  },
  {
   "cell_type": "code",
   "source": [
    "def bootstrap_confidence_interval(data, num_samples=1000, ci=0.95):\n",
    "    data = np.array(data)\n",
    "\n",
    "    res = stats.bootstrap((data,), np.std, confidence_level=ci, n_resamples=num_samples, method='basic')\n",
    "    return res.confidence_interval.low, res.confidence_interval.high"
   ],
   "metadata": {
    "id": "aAxeHmcGlRwo",
    "ExecuteTime": {
     "end_time": "2024-06-28T13:28:13.703452Z",
     "start_time": "2024-06-28T13:28:13.699915Z"
    }
   },
   "execution_count": 4,
   "outputs": []
  },
  {
   "cell_type": "markdown",
   "source": [
    "# In-Distribution Summary"
   ],
   "metadata": {
    "id": "DCwJo8V-SA_w"
   }
  },
  {
   "cell_type": "code",
   "source": [
    "grouped = results_in.groupby(['model', 'strategy'])\n",
    "confidence_intervals = grouped['f1-score(weighted avg)'].apply(lambda x: bootstrap_confidence_interval(x.values))\n",
    "average_fscore = grouped['f1-score(weighted avg)'].std()\n",
    "\n",
    "confidence_intervals_df = pd.DataFrame({\n",
    "    'Model': confidence_intervals.index.get_level_values('model'),\n",
    "    'strategy': confidence_intervals.index.get_level_values('strategy'),\n",
    "    'F-Score 95%': [f\"{avg:.4f} ({lower:.4f}, {upper:.4f})\" for (avg, (lower, upper)) in zip(average_fscore, confidence_intervals)]\n",
    "})\n",
    "\n",
    "confidence_intervals_df"
   ],
   "metadata": {
    "colab": {
     "base_uri": "https://localhost:8080/",
     "height": 426
    },
    "id": "wvkrDf8dSExQ",
    "outputId": "2b41264d-f15d-4ec3-91af-90c7d2f13b6f",
    "ExecuteTime": {
     "end_time": "2024-06-28T13:28:14.743794Z",
     "start_time": "2024-06-28T13:28:14.657576Z"
    }
   },
   "execution_count": 5,
   "outputs": [
    {
     "data": {
      "text/plain": "      Model     strategy              F-Score 95%\n0  ResNet50     Baseline  0.0672 (0.0455, 0.0921)\n1  ResNet50   DefaultAug  0.0860 (0.0644, 0.1404)\n2  ResNet50     Gaussian  0.0618 (0.0329, 0.0929)\n3  ResNet50  Salt&Pepper  0.1709 (0.1291, 0.2413)",
      "text/html": "<div>\n<style scoped>\n    .dataframe tbody tr th:only-of-type {\n        vertical-align: middle;\n    }\n\n    .dataframe tbody tr th {\n        vertical-align: top;\n    }\n\n    .dataframe thead th {\n        text-align: right;\n    }\n</style>\n<table border=\"1\" class=\"dataframe\">\n  <thead>\n    <tr style=\"text-align: right;\">\n      <th></th>\n      <th>Model</th>\n      <th>strategy</th>\n      <th>F-Score 95%</th>\n    </tr>\n  </thead>\n  <tbody>\n    <tr>\n      <th>0</th>\n      <td>ResNet50</td>\n      <td>Baseline</td>\n      <td>0.0672 (0.0455, 0.0921)</td>\n    </tr>\n    <tr>\n      <th>1</th>\n      <td>ResNet50</td>\n      <td>DefaultAug</td>\n      <td>0.0860 (0.0644, 0.1404)</td>\n    </tr>\n    <tr>\n      <th>2</th>\n      <td>ResNet50</td>\n      <td>Gaussian</td>\n      <td>0.0618 (0.0329, 0.0929)</td>\n    </tr>\n    <tr>\n      <th>3</th>\n      <td>ResNet50</td>\n      <td>Salt&amp;Pepper</td>\n      <td>0.1709 (0.1291, 0.2413)</td>\n    </tr>\n  </tbody>\n</table>\n</div>"
     },
     "execution_count": 5,
     "metadata": {},
     "output_type": "execute_result"
    }
   ]
  },
  {
   "cell_type": "markdown",
   "source": [
    "-------"
   ],
   "metadata": {
    "id": "zMK1G7EgGYfx"
   }
  },
  {
   "cell_type": "markdown",
   "source": [
    "# Out of Distribution Summary"
   ],
   "metadata": {
    "id": "vMuQkVhSR9Ti"
   }
  },
  {
   "cell_type": "code",
   "source": [
    "grouped = results_ood.groupby(['model', 'strategy'])\n",
    "results_ood.loc[:, 'evaluation_set'] = 'ood'\n",
    "confidence_intervals = grouped['f1-score(weighted avg)'].apply(lambda x: bootstrap_confidence_interval(x.values))\n",
    "average_fscore = grouped['f1-score(weighted avg)'].mean()\n",
    "\n",
    "confidence_intervals_df = pd.DataFrame({\n",
    "    'Model': confidence_intervals.index.get_level_values('model'),\n",
    "    'strategy': confidence_intervals.index.get_level_values('strategy'),\n",
    "    'F-Score 95%': [f\"{avg:.4f} ({lower:.4f}, {upper:.4f})\" for (avg, (lower, upper)) in zip(average_fscore, confidence_intervals)]\n",
    "})\n",
    "\n",
    "confidence_intervals_df"
   ],
   "metadata": {
    "colab": {
     "base_uri": "https://localhost:8080/",
     "height": 426
    },
    "id": "sjSkiqloA1ZM",
    "outputId": "e5cae12e-9cb0-484c-c867-b7ad8f6f49f3",
    "ExecuteTime": {
     "end_time": "2024-06-28T13:28:16.852558Z",
     "start_time": "2024-06-28T13:28:16.811778Z"
    }
   },
   "execution_count": 6,
   "outputs": [
    {
     "data": {
      "text/plain": "      Model     strategy              F-Score 95%\n0  ResNet50     Baseline  0.5705 (0.0873, 0.1076)\n1  ResNet50   DefaultAug  0.6602 (0.0785, 0.1045)\n2  ResNet50     Gaussian  0.5643 (0.1017, 0.1283)\n3  ResNet50  Salt&Pepper  0.4852 (0.1497, 0.1726)",
      "text/html": "<div>\n<style scoped>\n    .dataframe tbody tr th:only-of-type {\n        vertical-align: middle;\n    }\n\n    .dataframe tbody tr th {\n        vertical-align: top;\n    }\n\n    .dataframe thead th {\n        text-align: right;\n    }\n</style>\n<table border=\"1\" class=\"dataframe\">\n  <thead>\n    <tr style=\"text-align: right;\">\n      <th></th>\n      <th>Model</th>\n      <th>strategy</th>\n      <th>F-Score 95%</th>\n    </tr>\n  </thead>\n  <tbody>\n    <tr>\n      <th>0</th>\n      <td>ResNet50</td>\n      <td>Baseline</td>\n      <td>0.5705 (0.0873, 0.1076)</td>\n    </tr>\n    <tr>\n      <th>1</th>\n      <td>ResNet50</td>\n      <td>DefaultAug</td>\n      <td>0.6602 (0.0785, 0.1045)</td>\n    </tr>\n    <tr>\n      <th>2</th>\n      <td>ResNet50</td>\n      <td>Gaussian</td>\n      <td>0.5643 (0.1017, 0.1283)</td>\n    </tr>\n    <tr>\n      <th>3</th>\n      <td>ResNet50</td>\n      <td>Salt&amp;Pepper</td>\n      <td>0.4852 (0.1497, 0.1726)</td>\n    </tr>\n  </tbody>\n</table>\n</div>"
     },
     "execution_count": 6,
     "metadata": {},
     "output_type": "execute_result"
    }
   ]
  },
  {
   "cell_type": "markdown",
   "source": [
    "# Plots"
   ],
   "metadata": {
    "id": "Mh8H2Qd0lx4C"
   }
  },
  {
   "cell_type": "code",
   "source": [
    "plot_results(results_in, results_ood)"
   ],
   "metadata": {
    "colab": {
     "base_uri": "https://localhost:8080/",
     "height": 650
    },
    "id": "dNjsAyNWUK59",
    "outputId": "4d3404cb-943e-4d7a-dd22-4b22c4263805",
    "ExecuteTime": {
     "end_time": "2024-06-28T13:28:27.433915Z",
     "start_time": "2024-06-28T13:28:27.388333Z"
    }
   },
   "execution_count": 9,
   "outputs": [
    {
     "ename": "IndexError",
     "evalue": "index 1 is out of bounds for axis 0 with size 1",
     "output_type": "error",
     "traceback": [
      "\u001B[0;31m---------------------------------------------------------------------------\u001B[0m",
      "\u001B[0;31mIndexError\u001B[0m                                Traceback (most recent call last)",
      "Cell \u001B[0;32mIn[9], line 1\u001B[0m\n\u001B[0;32m----> 1\u001B[0m \u001B[43mplot_results\u001B[49m\u001B[43m(\u001B[49m\u001B[43mresults_in\u001B[49m\u001B[43m,\u001B[49m\u001B[43m \u001B[49m\u001B[43mresults_ood\u001B[49m\u001B[43m)\u001B[49m\n",
      "Cell \u001B[0;32mIn[2], line 6\u001B[0m, in \u001B[0;36mplot_results\u001B[0;34m(df1, df2)\u001B[0m\n\u001B[1;32m      3\u001B[0m unique_values2 \u001B[38;5;241m=\u001B[39m df2[\u001B[38;5;124m'\u001B[39m\u001B[38;5;124mmodel\u001B[39m\u001B[38;5;124m'\u001B[39m]\u001B[38;5;241m.\u001B[39munique()\n\u001B[1;32m      5\u001B[0m resnet_results \u001B[38;5;241m=\u001B[39m df1[df1[\u001B[38;5;124m'\u001B[39m\u001B[38;5;124mmodel\u001B[39m\u001B[38;5;124m'\u001B[39m] \u001B[38;5;241m==\u001B[39m unique_values1[\u001B[38;5;241m0\u001B[39m]]\n\u001B[0;32m----> 6\u001B[0m xception_results \u001B[38;5;241m=\u001B[39m df1[df1[\u001B[38;5;124m'\u001B[39m\u001B[38;5;124mmodel\u001B[39m\u001B[38;5;124m'\u001B[39m] \u001B[38;5;241m==\u001B[39m \u001B[43munique_values1\u001B[49m\u001B[43m[\u001B[49m\u001B[38;5;241;43m1\u001B[39;49m\u001B[43m]\u001B[49m]\n\u001B[1;32m      7\u001B[0m resnet_results2 \u001B[38;5;241m=\u001B[39m df2[df2[\u001B[38;5;124m'\u001B[39m\u001B[38;5;124mmodel\u001B[39m\u001B[38;5;124m'\u001B[39m] \u001B[38;5;241m==\u001B[39m unique_values2[\u001B[38;5;241m0\u001B[39m]]\n\u001B[1;32m      8\u001B[0m xception_results2 \u001B[38;5;241m=\u001B[39m df2[df2[\u001B[38;5;124m'\u001B[39m\u001B[38;5;124mmodel\u001B[39m\u001B[38;5;124m'\u001B[39m] \u001B[38;5;241m==\u001B[39m unique_values2[\u001B[38;5;241m1\u001B[39m]]\n",
      "\u001B[0;31mIndexError\u001B[0m: index 1 is out of bounds for axis 0 with size 1"
     ]
    }
   ]
  },
  {
   "cell_type": "code",
   "outputs": [],
   "source": [],
   "metadata": {
    "collapsed": false
   }
  }
 ],
 "metadata": {
  "colab": {
   "provenance": []
  },
  "kernelspec": {
   "name": "python3",
   "language": "python",
   "display_name": "Python 3 (ipykernel)"
  },
  "language_info": {
   "name": "python"
  }
 },
 "nbformat": 4,
 "nbformat_minor": 0
}
