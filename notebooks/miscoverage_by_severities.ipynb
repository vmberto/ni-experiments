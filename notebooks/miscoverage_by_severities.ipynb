{
 "cells": [
  {
   "cell_type": "code",
   "source": [
    "STRATEGIES_ORDER = {\n",
    "    'Baseline': 0,\n",
    "    'Salt&Pepper': 1,\n",
    "    'Gaussian': 2,\n",
    "    'DefaultAug': 3,\n",
    "    'DefaultAug+Gaussian': 4,\n",
    "    'DefaultAug+S&P': 5\n",
    "}"
   ],
   "metadata": {
    "collapsed": false,
    "ExecuteTime": {
     "end_time": "2024-10-31T12:25:02.094437Z",
     "start_time": "2024-10-31T12:25:02.092262Z"
    }
   },
   "id": "41431513e64024be",
   "outputs": [],
   "execution_count": 1
  },
  {
   "metadata": {
    "collapsed": true,
    "ExecuteTime": {
     "end_time": "2024-10-31T12:25:02.112870Z",
     "start_time": "2024-10-31T12:25:02.108414Z"
    }
   },
   "cell_type": "code",
   "source": [
    "import pandas as pd\n",
    "import seaborn as sns\n",
    "from scipy import stats\n",
    "import matplotlib.pyplot as plt\n",
    "import numpy as np\n",
    "\n",
    "marker_styles = ['o', 's', '^', 'v', '<', '>', 'p']\n",
    "sns.set_style(\"whitegrid\")\n",
    "sns.set(font='serif')\n",
    "sns.set_style(\"white\", {\n",
    "    \"font.family\": \"serif\",\n",
    "    \"font.serif\": [\"Times\", \"Palatino\", \"serif\"],\n",
    "})"
   ],
   "id": "initial_id",
   "outputs": [],
   "execution_count": 2
  },
  {
   "metadata": {
    "collapsed": false,
    "ExecuteTime": {
     "end_time": "2024-10-31T12:25:02.314977Z",
     "start_time": "2024-10-31T12:25:02.237968Z"
    }
   },
   "cell_type": "code",
   "source": [
    "results = pd.read_csv(f'../results/full_10folds_results_all_severities.csv')\n",
    "\n",
    "results['evaluation_set'] = results['evaluation_set'].str.replace(' 1', '')\n",
    "results['evaluation_set'] = results['evaluation_set'].str.replace(' 2', '')\n",
    "results['evaluation_set'] = results['evaluation_set'].str.replace(' 3', '')\n",
    "results['evaluation_set'] = results['evaluation_set'].str.replace(' 4', '')\n",
    "results['evaluation_set'] = results['evaluation_set'].str.replace(' 5', '')\n",
    "\n",
    "\n",
    "results_ood = results[results['evaluation_set'] != 'In-Distribution']\n",
    "results_ood.loc[:, 'evaluation_set'] = 'Out-of-Distribution'\n",
    "\n",
    "results_in = results[results['evaluation_set'] == 'In-Distribution']\n",
    "results_in.loc[:, 'Severity'] = 'In-Distribution'\n"
   ],
   "id": "d599851992ebee78",
   "outputs": [],
   "execution_count": 3
  },
  {
   "cell_type": "markdown",
   "source": [
    "# Miscoverage\n",
    "### Generating Samples leaving 3 out"
   ],
   "metadata": {
    "collapsed": false
   },
   "id": "bedcf9d867dab00"
  },
  {
   "cell_type": "code",
   "source": [
    "replications = []\n",
    "for index in range(10):\n",
    "  if index < 9:\n",
    "    a = np.arange(1, 11)\n",
    "    a = np.delete(a, [index, index+1])\n",
    "    replications.append(a)\n",
    "      \n",
    "replications"
   ],
   "metadata": {
    "collapsed": false,
    "ExecuteTime": {
     "end_time": "2024-10-31T12:25:02.364274Z",
     "start_time": "2024-10-31T12:25:02.359471Z"
    }
   },
   "id": "88ca8f2ba116301",
   "outputs": [
    {
     "data": {
      "text/plain": [
       "[array([ 3,  4,  5,  6,  7,  8,  9, 10]),\n",
       " array([ 1,  4,  5,  6,  7,  8,  9, 10]),\n",
       " array([ 1,  2,  5,  6,  7,  8,  9, 10]),\n",
       " array([ 1,  2,  3,  6,  7,  8,  9, 10]),\n",
       " array([ 1,  2,  3,  4,  7,  8,  9, 10]),\n",
       " array([ 1,  2,  3,  4,  5,  8,  9, 10]),\n",
       " array([ 1,  2,  3,  4,  5,  6,  9, 10]),\n",
       " array([ 1,  2,  3,  4,  5,  6,  7, 10]),\n",
       " array([1, 2, 3, 4, 5, 6, 7, 8])]"
      ]
     },
     "execution_count": 4,
     "metadata": {},
     "output_type": "execute_result"
    }
   ],
   "execution_count": 4
  },
  {
   "cell_type": "code",
   "source": [
    "def generate_miscoverage(df):\n",
    "  global_10fold_df = df.copy()\n",
    "  each_replication_array = []\n",
    "  for i, selected_folds in enumerate(replications):\n",
    "      splitted_dataframe = global_10fold_df[global_10fold_df['fold'].isin(selected_folds)].copy()\n",
    "      splitted_dataframe['replication'] = i + 1\n",
    "      each_replication_array.append(splitted_dataframe)\n",
    "\n",
    "  each_replication_df = pd.concat(each_replication_array, ignore_index=True)\n",
    "\n",
    "  each_leave1out_df = []\n",
    "  \n",
    "  for i, selected_folds in enumerate(replications):\n",
    "      splitted_dataframe = each_replication_df[each_replication_df['fold'].isin(selected_folds)].copy()\n",
    "      mean_fscore_overall = each_replication_df.groupby(['strategy', 'model', 'replication', 'Severity'])['f1-score(weighted avg)'].mean()\n",
    "\n",
    "      def normalize_fscore(row):\n",
    "          fscore = row['f1-score(weighted avg)']\n",
    "          mean = mean_fscore_overall[row['strategy'], row['model'], row['replication'], row['Severity']]\n",
    "          return fscore - mean\n",
    "\n",
    "      dataframe = pd.DataFrame({\n",
    "          'model': splitted_dataframe['model'],\n",
    "          'replication': splitted_dataframe['replication'],\n",
    "          'fold': splitted_dataframe['fold'],\n",
    "          'severity': splitted_dataframe['Severity'],\n",
    "          'evaluation_set': splitted_dataframe['evaluation_set'],\n",
    "          'strategy': splitted_dataframe['strategy'] + '_' + str(i),\n",
    "          'f1-score(weighted avg)': splitted_dataframe.apply(normalize_fscore, axis=1),\n",
    "      })\n",
    "      each_leave1out_df.append(dataframe)\n",
    "\n",
    "  result_dataframe = pd.concat(each_leave1out_df, ignore_index=True)\n",
    "  result_dataframe['sort_key'] = (result_dataframe['strategy']\n",
    "                                  .apply(lambda strategy: STRATEGIES_ORDER[strategy.split('_')[0]]))\n",
    "  result_dataframe_final = result_dataframe.sort_values(by=['sort_key', 'strategy']).drop(columns=['sort_key'])\n",
    "\n",
    "  return result_dataframe_final, each_leave1out_df"
   ],
   "metadata": {
    "collapsed": false,
    "ExecuteTime": {
     "end_time": "2024-10-31T12:25:03.007216Z",
     "start_time": "2024-10-31T12:25:03.001911Z"
    }
   },
   "id": "2744d0c30f00d49d",
   "outputs": [],
   "execution_count": 5
  },
  {
   "cell_type": "code",
   "source": [
    "result_dataframe_in, each_dataframe_fscore_in = generate_miscoverage(results_in)\n",
    "result_dataframe_in['severity'] = 'In-Distribution'\n",
    "result_dataframe_ood, each_dataframe_fscore_ood = generate_miscoverage(results_ood)\n"
   ],
   "metadata": {
    "collapsed": false,
    "ExecuteTime": {
     "end_time": "2024-10-31T12:25:13.667731Z",
     "start_time": "2024-10-31T12:25:03.680884Z"
    }
   },
   "id": "860e391a73a18d50",
   "outputs": [],
   "execution_count": 6
  },
  {
   "cell_type": "code",
   "source": [
    "def plot_results_all(df_in, df_out, x_label='Mean Centered F-Score', figsize=(50, 25)):\n",
    "    unique_values1 = df_in['model'].unique()\n",
    "    unique_values2 = df_out['model'].unique()\n",
    "    \n",
    "    resnet_results_in = df_in[df_in['model'] == unique_values1[0]]\n",
    "    xception_results_in = df_in[df_in['model'] == unique_values1[1]]\n",
    "    resnet_results_out = df_out[df_out['model'] == unique_values2[0]]\n",
    "    xception_results_out = df_out[df_out['model'] == unique_values2[1]]\n",
    "    \n",
    "    resnet_results_lowest_dist = resnet_results_out[resnet_results_out['severity'] == 'Lowest']\n",
    "    resnet_results_midrange_dist = resnet_results_out[resnet_results_out['severity'] == 'Mid-Range']\n",
    "    resnet_results_highest_dist = resnet_results_out[resnet_results_out['severity'] == 'Highest']\n",
    "    \n",
    "    xception_results_lowest_dist = xception_results_out[xception_results_out['severity'] == 'Lowest']\n",
    "    xception_results_midrange_dist = xception_results_out[xception_results_out['severity'] == 'Mid-Range']\n",
    "    xception_results_highest_dist = xception_results_out[xception_results_out['severity'] == 'Highest']\n",
    "    \n",
    "    fig, axes = plt.subplots(2, 4, figsize=figsize)  # Create a figure with four subplots\n",
    "\n",
    "    x_min = -.03\n",
    "    x_max = .03\n",
    "\n",
    "    x_ticks = [x_min, 0, x_max]\n",
    "\n",
    "    handles = []\n",
    "    labels = []\n",
    "\n",
    "    unique_approaches = df_in['strategy'].unique()\n",
    "    palette_dict = {}\n",
    "\n",
    "    for strategy in unique_approaches:\n",
    "        if strategy not in palette_dict:\n",
    "            if strategy.split('_')[0] == 'Baseline':\n",
    "                palette_dict['Baseline'] = '#5471ab'\n",
    "            elif strategy.split('_')[0] == 'Gaussian':\n",
    "                palette_dict['Gaussian'] = '#6aa66e'\n",
    "            elif strategy.split('_')[0] == 'Salt&Pepper':\n",
    "                palette_dict['Salt&Pepper'] = '#d1885c'\n",
    "            elif strategy.split('_')[0] == 'DefaultAug+S&P':\n",
    "                palette_dict['DefaultAug+S&P'] = '#7f73af'\n",
    "            elif strategy.split('_')[0] == 'DefaultAug+Gaussian':\n",
    "                palette_dict['DefaultAug+Gaussian'] = '#8f7963'\n",
    "            elif strategy.split('_')[0] == 'DefaultAug':\n",
    "                palette_dict['DefaultAug'] = '#b65655'\n",
    "\n",
    "    strategy = df_in.copy()\n",
    "    palette = [palette_dict[strategy.split('_')[0]] for strategy in strategy['strategy'].unique()]\n",
    "\n",
    "    for i, plot in enumerate([\n",
    "        {\"df\": resnet_results_in, \"model\": \"ResNet50\", \"ylabel\": \"In-Distribution\"},\n",
    "        {\"df\": resnet_results_lowest_dist, \"model\": \"ResNet50\", \"ylabel\": \"Lowest\"},\n",
    "        {\"df\": resnet_results_midrange_dist, \"model\": \"ResNet50\", \"ylabel\": \"Mid-Range\"},\n",
    "        {\"df\": resnet_results_highest_dist, \"model\": \"ResNet50\", \"ylabel\": \"Highest\"},\n",
    "        {\"df\": xception_results_in, \"model\": \"Xception\", \"ylabel\": \"In-Distribution\"},\n",
    "        {\"df\": xception_results_lowest_dist, \"model\": \"Xception\", \"ylabel\": \"Lowest\"},\n",
    "        {\"df\": xception_results_midrange_dist, \"model\": \"Xception\", \"ylabel\": \"Mid-Range\"},\n",
    "        {\"df\": xception_results_highest_dist, \"model\": \"Xception\", \"ylabel\": \"Highest\"},\n",
    "    ]):\n",
    "        ax = sns.pointplot(\n",
    "            data=plot['df'],\n",
    "            x='f1-score(weighted avg)',\n",
    "            y='severity',\n",
    "            hue='strategy',\n",
    "            linestyles='-',  # Set line style for error bars\n",
    "            markers=['o', 'o', 'o', 'o', 'o', 'o', 'o', 'o', 'o',\n",
    "                     's', 's', 's', 's', 's', 's', 's', 's', 's',\n",
    "                     '^', '^', '^', '^', '^', '^', '^', '^', '^',\n",
    "                     'v', 'v', 'v', 'v', 'v', 'v', 'v', 'v', 'v',\n",
    "                     '<', '<', '<', '<', '<', '<', '<', '<', '<',\n",
    "                     '>', '>', '>', '>', '>', '>', '>', '>', '>',\n",
    "                     'p', 'p', 'p', 'p', 'p', 'p', 'p', 'p', 'p'],\n",
    "            errorbar=(\"ci\", 95),\n",
    "            dodge=.9,\n",
    "            palette=palette, \n",
    "            err_kws={'linewidth': 3},\n",
    "            ax=axes[i // 4, i % 4]\n",
    "        )\n",
    "                \n",
    "        ax.set_xlabel(x_label, fontsize=32)\n",
    "\n",
    "        ax.set_xlim(x_min, x_max)\n",
    "        ax.set_xticks(x_ticks)\n",
    "        ax.set_yticks([])\n",
    "\n",
    "        ax.axvline(x=0, color='k', linestyle='--')\n",
    "        \n",
    "        if i == 0 or i == 1 or i == 2 or i == 3:\n",
    "            ax.set_xlabel(\"\")\n",
    "            ax.set_title(plot['ylabel'], fontsize=42)\n",
    "        else:\n",
    "            ax.set_xlabel(\"Mean Centered F1-Score\", fontsize=42)\n",
    "            \n",
    "            \n",
    "        if i == 0:\n",
    "            ax.set_ylabel(\"ResNet50\", fontsize=42)\n",
    "        elif i == 4:\n",
    "            ax.set_ylabel(\"Xception\", fontsize=42)\n",
    "        else:\n",
    "            ax.set_ylabel('')\n",
    "\n",
    "\n",
    "        ax.tick_params(labelsize=38)\n",
    "\n",
    "        ax.legend_.remove()\n",
    "\n",
    "        if i == 0:\n",
    "            handles, labels = ax.get_legend_handles_labels()\n",
    "\n",
    "\n",
    "    for i in range(len(labels)):\n",
    "        labels[i] = labels[i].split('_')[0]\n",
    "\n",
    "    unique_labels = []\n",
    "    unique_handles = []\n",
    "    for i, label in enumerate(labels):\n",
    "        if label not in unique_labels:     \n",
    "            unique_labels.append(label)\n",
    "            unique_handles.append(handles[i]) \n",
    "                \n",
    "    for i, handle in enumerate(unique_handles):\n",
    "        handle.set_marker(marker_styles[i % len(marker_styles)])\n",
    "        handle.set_markersize(30)\n",
    "\n",
    "    fig.legend(unique_handles, unique_labels, title=\"Strategy\", loc='lower center', bbox_to_anchor=(0.5, -0.135), fontsize=42, title_fontsize=42, ncol=3)\n",
    "    fig.suptitle('Distributions Domain Range', fontsize=50, y=1)\n",
    "    plt.tight_layout()\n",
    "    plt.savefig('../output/miscoverage_plot.pdf', bbox_inches='tight')\n",
    "    plt.show()\n",
    "\n",
    "plot_results_all(result_dataframe_in, result_dataframe_ood)"
   ],
   "metadata": {
    "collapsed": false,
    "jupyter": {
     "is_executing": true
    },
    "ExecuteTime": {
     "start_time": "2024-10-31T12:25:13.692028Z"
    }
   },
   "id": "5b659bf2c544dc39",
   "outputs": [],
   "execution_count": null
  },
  {
   "cell_type": "markdown",
   "source": [
    "# Miscoverage STD DEV\n",
    "\n",
    "#### In-Distribution"
   ],
   "metadata": {
    "collapsed": false
   },
   "id": "e8c447d7529adaaf"
  },
  {
   "cell_type": "code",
   "source": [
    "def bootstrap_confidence_interval(data, num_samples=1000, ci=0.95):\n",
    "    data = np.array(data)\n",
    "\n",
    "    res = stats.bootstrap((data,), np.std, confidence_level=ci, n_resamples=num_samples, method='basic')\n",
    "    return res.confidence_interval.low, res.confidence_interval.high"
   ],
   "metadata": {
    "collapsed": false,
    "ExecuteTime": {
     "end_time": "2024-10-30T01:39:45.501096Z",
     "start_time": "2024-10-30T01:39:45.496389Z"
    }
   },
   "id": "a4a2a68fd1995c1e",
   "outputs": [],
   "execution_count": 150
  },
  {
   "cell_type": "code",
   "source": [
    "df = pd.concat(each_dataframe_fscore_in)\n",
    "for model in ['ResNet50', 'Xception']:\n",
    "  print('\\n')\n",
    "  for strategy in ['Baseline', 'Gaussian', 'Salt&Pepper', 'DefaultAug_', 'DefaultAug+Gaussian_', 'DefaultAug+S&P_',]:\n",
    "      curr_df = df[df['model'] == model]\n",
    "      curr_df = curr_df[curr_df['strategy'].str.startswith(strategy)]\n",
    "      lower, upper = bootstrap_confidence_interval(curr_df['f1-score(weighted avg)'])\n",
    "      print(f\"STD {model} - {strategy}: {curr_df['f1-score(weighted avg)'].std()} ({lower}, {upper})\")"
   ],
   "metadata": {
    "collapsed": false,
    "ExecuteTime": {
     "end_time": "2024-10-30T01:39:45.647876Z",
     "start_time": "2024-10-30T01:39:45.527499Z"
    }
   },
   "id": "cb0bd477b89b4550",
   "outputs": [
    {
     "name": "stdout",
     "output_type": "stream",
     "text": [
      "\n",
      "\n",
      "STD ResNet50 - Baseline: 0.06353211548672956 (0.06106268065713018, 0.06614960458990626)\n",
      "STD ResNet50 - Gaussian: 0.03164450354719362 (0.030283328025111134, 0.03325610237411661)\n",
      "STD ResNet50 - Salt&Pepper: 0.02937196654963576 (0.028102874446607137, 0.030512578581924375)\n",
      "STD ResNet50 - DefaultAug_: 0.01478300194118503 (0.013961867188080044, 0.015605737516210775)\n",
      "STD ResNet50 - DefaultAug+Gaussian_: 0.015266434115414172 (0.01444592607265728, 0.01610775671889196)\n",
      "STD ResNet50 - DefaultAug+S&P_: 0.014651179919667967 (0.013872420331671107, 0.01551129206304325)\n",
      "\n",
      "\n",
      "STD Xception - Baseline: 0.048032519001490026 (0.04581286804226009, 0.0505023107582514)\n",
      "STD Xception - Gaussian: 0.032909360337623796 (0.03143248878059454, 0.034648484687443665)\n",
      "STD Xception - Salt&Pepper: 0.04709308426529416 (0.04544183009525114, 0.048702082615707944)\n",
      "STD Xception - DefaultAug_: 0.006588904192786502 (0.006210673889275062, 0.006976752804731249)\n",
      "STD Xception - DefaultAug+Gaussian_: 0.013328707915748922 (0.012849750491910164, 0.013797105899495767)\n",
      "STD Xception - DefaultAug+S&P_: 0.017089932476678036 (0.01621431981246955, 0.018039730799693576)\n"
     ]
    }
   ],
   "execution_count": 151
  },
  {
   "cell_type": "markdown",
   "source": [
    "#### Out-of-Distribution"
   ],
   "metadata": {
    "collapsed": false
   },
   "id": "d2118abaf9b9621a"
  },
  {
   "cell_type": "code",
   "source": [
    "df = pd.concat(each_dataframe_fscore_ood)\n",
    "for model in ['ResNet50', 'Xception']:\n",
    "  print('\\n')\n",
    "  for strategy in ['Baseline', 'Gaussian', 'Salt&Pepper', 'DefaultAug_', 'DefaultAug+Gaussian_', 'DefaultAug+S&P_',]:\n",
    "      curr_df = df[df['model'] == model]\n",
    "      curr_df = curr_df[curr_df['strategy'].str.startswith(strategy)]\n",
    "      lower, upper = bootstrap_confidence_interval(curr_df['f1-score(weighted avg)'])\n",
    "      print(f\"STD {model} - {strategy}: {curr_df['f1-score(weighted avg)'].std()} ({lower}, {upper})\")"
   ],
   "metadata": {
    "collapsed": false,
    "ExecuteTime": {
     "end_time": "2024-10-28T13:40:45.902265Z",
     "start_time": "2024-10-28T13:40:44.102977Z"
    }
   },
   "id": "187a65f9451859a6",
   "outputs": [
    {
     "name": "stdout",
     "output_type": "stream",
     "text": [
      "\n",
      "\n",
      "STD ResNet50 - Baseline: 0.08836883904380416 (0.08661553632395996, 0.09010103579488148)\n",
      "STD ResNet50 - Gaussian: 0.10086383248365637 (0.09855908344785269, 0.10340442558739327)\n",
      "STD ResNet50 - Salt&Pepper: 0.07783415296743314 (0.07573891441610651, 0.07985055332314206)\n",
      "STD ResNet50 - DefaultAug_: 0.0791524405537469 (0.07792940298956437, 0.0804926112706884)\n",
      "STD ResNet50 - DefaultAug+Gaussian_: 0.09299640679977839 (0.09062863591245778, 0.09559063499956144)\n",
      "STD ResNet50 - DefaultAug+S&P_: 0.07479540932984444 (0.07249541050248078, 0.07694306077107199)\n",
      "\n",
      "\n",
      "STD Xception - Baseline: 0.08456549411501284 (0.08336529330504239, 0.08570393206660082)\n",
      "STD Xception - Gaussian: 0.0799014962999847 (0.07820283209482294, 0.08159153322774475)\n",
      "STD Xception - Salt&Pepper: 0.06442951254670468 (0.06311279822113955, 0.06574203121748683)\n",
      "STD Xception - DefaultAug_: 0.08351874879023403 (0.0824999507472845, 0.0846136712079276)\n",
      "STD Xception - DefaultAug+Gaussian_: 0.0712837991858424 (0.06941056495728587, 0.07330000361115202)\n",
      "STD Xception - DefaultAug+S&P_: 0.051616992247973704 (0.05013230670879856, 0.05310168472116366)\n"
     ]
    }
   ],
   "execution_count": 38
  }
 ],
 "metadata": {
  "kernelspec": {
   "display_name": "Python 3",
   "language": "python",
   "name": "python3"
  },
  "language_info": {
   "codemirror_mode": {
    "name": "ipython",
    "version": 2
   },
   "file_extension": ".py",
   "mimetype": "text/x-python",
   "name": "python",
   "nbconvert_exporter": "python",
   "pygments_lexer": "ipython2",
   "version": "2.7.6"
  }
 },
 "nbformat": 4,
 "nbformat_minor": 5
}
